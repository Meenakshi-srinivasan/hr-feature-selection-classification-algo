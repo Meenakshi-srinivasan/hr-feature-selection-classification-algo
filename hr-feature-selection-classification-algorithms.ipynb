{
 "cells": [
  {
   "cell_type": "markdown",
   "metadata": {
    "papermill": {
     "duration": 0.024823,
     "end_time": "2021-03-11T20:30:52.111603",
     "exception": false,
     "start_time": "2021-03-11T20:30:52.086780",
     "status": "completed"
    },
    "tags": []
   },
   "source": [
    "# HR ANALYTICS\n",
    "\n",
    "The aim of this notebook is to predict the Employee attrition rate based on the given features in the dataset. **Logistic Regression, Decision tree, Random Forest algorithm, Support Vector Machine and Gradient Boosting classification algorithms**  are used for prediction and the ML models are implemented using **Pipelines**. Each feature is analysed and the features that influence the attrition rate is chosen for prediction. "
   ]
  },
  {
   "cell_type": "markdown",
   "metadata": {
    "papermill": {
     "duration": 0.022977,
     "end_time": "2021-03-11T20:30:52.157856",
     "exception": false,
     "start_time": "2021-03-11T20:30:52.134879",
     "status": "completed"
    },
    "tags": []
   },
   "source": [
    "## Table of contents\n",
    "1. Data Gathering\n",
    "2. Feature Selection\n",
    "    <br>2.1 Categorical features analysis\n",
    "    <br>2.2 Quantitative features analysis\n",
    "3. Data Transformation\n",
    "4. Maching Learning Models Implementation\n",
    "5. Conclusion"
   ]
  },
  {
   "cell_type": "markdown",
   "metadata": {
    "papermill": {
     "duration": 0.022525,
     "end_time": "2021-03-11T20:30:52.203559",
     "exception": false,
     "start_time": "2021-03-11T20:30:52.181034",
     "status": "completed"
    },
    "tags": []
   },
   "source": [
    "# 1. DATA GATHERING"
   ]
  },
  {
   "cell_type": "code",
   "execution_count": 1,
   "metadata": {
    "_cell_guid": "b1076dfc-b9ad-4769-8c92-a6c4dae69d19",
    "_uuid": "8f2839f25d086af736a60e9eeb907d3b93b6e0e5",
    "execution": {
     "iopub.execute_input": "2021-03-11T20:30:52.259904Z",
     "iopub.status.busy": "2021-03-11T20:30:52.259210Z",
     "iopub.status.idle": "2021-03-11T20:30:53.690212Z",
     "shell.execute_reply": "2021-03-11T20:30:53.689439Z"
    },
    "papermill": {
     "duration": 1.463817,
     "end_time": "2021-03-11T20:30:53.690426",
     "exception": false,
     "start_time": "2021-03-11T20:30:52.226609",
     "status": "completed"
    },
    "tags": []
   },
   "outputs": [
    {
     "name": "stdout",
     "output_type": "stream",
     "text": [
      "/kaggle/input/hr-analytics/HR_comma_sep.csv\n"
     ]
    }
   ],
   "source": [
    "# This Python 3 environment comes with many helpful analytics libraries installed\n",
    "# It is defined by the kaggle/python Docker image: https://github.com/kaggle/docker-python\n",
    "# For example, here's several helpful packages to load\n",
    "\n",
    "import numpy as np # linear algebra\n",
    "import pandas as pd # data processing, CSV file I/O (e.g. pd.read_csv)\n",
    "\n",
    "# Input data files are available in the read-only \"../input/\" directory\n",
    "# For example, running this (by clicking run or pressing Shift+Enter) will list all files under the input directory\n",
    "\n",
    "import os\n",
    "for dirname, _, filenames in os.walk('/kaggle/input'):\n",
    "    for filename in filenames:\n",
    "        print(os.path.join(dirname, filename))\n",
    "\n",
    "# You can write up to 20GB to the current directory (/kaggle/working/) that gets preserved as output when you create a version using \"Save & Run All\" \n",
    "# You can also write temporary files to /kaggle/temp/, but they won't be saved outside of the current session\n",
    "\n",
    "import matplotlib.pyplot as plt\n",
    "%matplotlib inline\n",
    "import seaborn as sns\n",
    "from sklearn.linear_model import LogisticRegression\n",
    "from sklearn.model_selection import train_test_split\n",
    "from sklearn.pipeline import Pipeline\n",
    "from sklearn.tree import DecisionTreeClassifier\n",
    "from sklearn.ensemble import RandomForestClassifier, GradientBoostingClassifier\n",
    "from sklearn.svm import SVC"
   ]
  },
  {
   "cell_type": "code",
   "execution_count": 2,
   "metadata": {
    "execution": {
     "iopub.execute_input": "2021-03-11T20:30:53.743496Z",
     "iopub.status.busy": "2021-03-11T20:30:53.742847Z",
     "iopub.status.idle": "2021-03-11T20:30:53.821739Z",
     "shell.execute_reply": "2021-03-11T20:30:53.820689Z"
    },
    "papermill": {
     "duration": 0.105662,
     "end_time": "2021-03-11T20:30:53.821892",
     "exception": false,
     "start_time": "2021-03-11T20:30:53.716230",
     "status": "completed"
    },
    "tags": []
   },
   "outputs": [
    {
     "data": {
      "text/html": [
       "<div>\n",
       "<style scoped>\n",
       "    .dataframe tbody tr th:only-of-type {\n",
       "        vertical-align: middle;\n",
       "    }\n",
       "\n",
       "    .dataframe tbody tr th {\n",
       "        vertical-align: top;\n",
       "    }\n",
       "\n",
       "    .dataframe thead th {\n",
       "        text-align: right;\n",
       "    }\n",
       "</style>\n",
       "<table border=\"1\" class=\"dataframe\">\n",
       "  <thead>\n",
       "    <tr style=\"text-align: right;\">\n",
       "      <th></th>\n",
       "      <th>satisfaction_level</th>\n",
       "      <th>last_evaluation</th>\n",
       "      <th>number_project</th>\n",
       "      <th>average_montly_hours</th>\n",
       "      <th>time_spend_company</th>\n",
       "      <th>Work_accident</th>\n",
       "      <th>left</th>\n",
       "      <th>promotion_last_5years</th>\n",
       "      <th>Department</th>\n",
       "      <th>salary</th>\n",
       "    </tr>\n",
       "  </thead>\n",
       "  <tbody>\n",
       "    <tr>\n",
       "      <th>0</th>\n",
       "      <td>0.38</td>\n",
       "      <td>0.53</td>\n",
       "      <td>2</td>\n",
       "      <td>157</td>\n",
       "      <td>3</td>\n",
       "      <td>0</td>\n",
       "      <td>1</td>\n",
       "      <td>0</td>\n",
       "      <td>sales</td>\n",
       "      <td>low</td>\n",
       "    </tr>\n",
       "    <tr>\n",
       "      <th>1</th>\n",
       "      <td>0.80</td>\n",
       "      <td>0.86</td>\n",
       "      <td>5</td>\n",
       "      <td>262</td>\n",
       "      <td>6</td>\n",
       "      <td>0</td>\n",
       "      <td>1</td>\n",
       "      <td>0</td>\n",
       "      <td>sales</td>\n",
       "      <td>medium</td>\n",
       "    </tr>\n",
       "    <tr>\n",
       "      <th>2</th>\n",
       "      <td>0.11</td>\n",
       "      <td>0.88</td>\n",
       "      <td>7</td>\n",
       "      <td>272</td>\n",
       "      <td>4</td>\n",
       "      <td>0</td>\n",
       "      <td>1</td>\n",
       "      <td>0</td>\n",
       "      <td>sales</td>\n",
       "      <td>medium</td>\n",
       "    </tr>\n",
       "    <tr>\n",
       "      <th>3</th>\n",
       "      <td>0.72</td>\n",
       "      <td>0.87</td>\n",
       "      <td>5</td>\n",
       "      <td>223</td>\n",
       "      <td>5</td>\n",
       "      <td>0</td>\n",
       "      <td>1</td>\n",
       "      <td>0</td>\n",
       "      <td>sales</td>\n",
       "      <td>low</td>\n",
       "    </tr>\n",
       "    <tr>\n",
       "      <th>4</th>\n",
       "      <td>0.37</td>\n",
       "      <td>0.52</td>\n",
       "      <td>2</td>\n",
       "      <td>159</td>\n",
       "      <td>3</td>\n",
       "      <td>0</td>\n",
       "      <td>1</td>\n",
       "      <td>0</td>\n",
       "      <td>sales</td>\n",
       "      <td>low</td>\n",
       "    </tr>\n",
       "  </tbody>\n",
       "</table>\n",
       "</div>"
      ],
      "text/plain": [
       "   satisfaction_level  last_evaluation  number_project  average_montly_hours  \\\n",
       "0                0.38             0.53               2                   157   \n",
       "1                0.80             0.86               5                   262   \n",
       "2                0.11             0.88               7                   272   \n",
       "3                0.72             0.87               5                   223   \n",
       "4                0.37             0.52               2                   159   \n",
       "\n",
       "   time_spend_company  Work_accident  left  promotion_last_5years Department  \\\n",
       "0                   3              0     1                      0      sales   \n",
       "1                   6              0     1                      0      sales   \n",
       "2                   4              0     1                      0      sales   \n",
       "3                   5              0     1                      0      sales   \n",
       "4                   3              0     1                      0      sales   \n",
       "\n",
       "   salary  \n",
       "0     low  \n",
       "1  medium  \n",
       "2  medium  \n",
       "3     low  \n",
       "4     low  "
      ]
     },
     "execution_count": 2,
     "metadata": {},
     "output_type": "execute_result"
    }
   ],
   "source": [
    "#loading the dataset\n",
    "retent_df = pd.read_csv('/kaggle/input/hr-analytics/HR_comma_sep.csv')\n",
    "retent_df.head()"
   ]
  },
  {
   "cell_type": "code",
   "execution_count": 3,
   "metadata": {
    "execution": {
     "iopub.execute_input": "2021-03-11T20:30:53.879291Z",
     "iopub.status.busy": "2021-03-11T20:30:53.878583Z",
     "iopub.status.idle": "2021-03-11T20:30:53.885680Z",
     "shell.execute_reply": "2021-03-11T20:30:53.885044Z"
    },
    "papermill": {
     "duration": 0.039621,
     "end_time": "2021-03-11T20:30:53.885815",
     "exception": false,
     "start_time": "2021-03-11T20:30:53.846194",
     "status": "completed"
    },
    "tags": []
   },
   "outputs": [
    {
     "data": {
      "text/plain": [
       "satisfaction_level       0\n",
       "last_evaluation          0\n",
       "number_project           0\n",
       "average_montly_hours     0\n",
       "time_spend_company       0\n",
       "Work_accident            0\n",
       "left                     0\n",
       "promotion_last_5years    0\n",
       "Department               0\n",
       "salary                   0\n",
       "dtype: int64"
      ]
     },
     "execution_count": 3,
     "metadata": {},
     "output_type": "execute_result"
    }
   ],
   "source": [
    "#check for null values\n",
    "retent_df.isna().sum()"
   ]
  },
  {
   "cell_type": "markdown",
   "metadata": {
    "papermill": {
     "duration": 0.024381,
     "end_time": "2021-03-11T20:30:53.934851",
     "exception": false,
     "start_time": "2021-03-11T20:30:53.910470",
     "status": "completed"
    },
    "tags": []
   },
   "source": [
    "# 2. FEATURE SELECTION"
   ]
  },
  {
   "cell_type": "markdown",
   "metadata": {
    "papermill": {
     "duration": 0.024906,
     "end_time": "2021-03-11T20:30:53.985266",
     "exception": false,
     "start_time": "2021-03-11T20:30:53.960360",
     "status": "completed"
    },
    "tags": []
   },
   "source": [
    "Categorical columns - Work_accident, Department, salary\n",
    "<br>Quantitative columns - satisfaction_level, last_evaluation, number_project, average_monthly_hours, time_spend_company, promotion_last_5years"
   ]
  },
  {
   "cell_type": "code",
   "execution_count": 4,
   "metadata": {
    "execution": {
     "iopub.execute_input": "2021-03-11T20:30:54.039171Z",
     "iopub.status.busy": "2021-03-11T20:30:54.038518Z",
     "iopub.status.idle": "2021-03-11T20:30:54.061929Z",
     "shell.execute_reply": "2021-03-11T20:30:54.061346Z"
    },
    "papermill": {
     "duration": 0.051438,
     "end_time": "2021-03-11T20:30:54.062071",
     "exception": false,
     "start_time": "2021-03-11T20:30:54.010633",
     "status": "completed"
    },
    "tags": []
   },
   "outputs": [
    {
     "data": {
      "text/html": [
       "<div>\n",
       "<style scoped>\n",
       "    .dataframe tbody tr th:only-of-type {\n",
       "        vertical-align: middle;\n",
       "    }\n",
       "\n",
       "    .dataframe tbody tr th {\n",
       "        vertical-align: top;\n",
       "    }\n",
       "\n",
       "    .dataframe thead th {\n",
       "        text-align: right;\n",
       "    }\n",
       "</style>\n",
       "<table border=\"1\" class=\"dataframe\">\n",
       "  <thead>\n",
       "    <tr style=\"text-align: right;\">\n",
       "      <th></th>\n",
       "      <th>satisfaction_level</th>\n",
       "      <th>last_evaluation</th>\n",
       "      <th>number_project</th>\n",
       "      <th>average_montly_hours</th>\n",
       "      <th>time_spend_company</th>\n",
       "      <th>Work_accident</th>\n",
       "      <th>left</th>\n",
       "      <th>promotion_last_5years</th>\n",
       "    </tr>\n",
       "  </thead>\n",
       "  <tbody>\n",
       "    <tr>\n",
       "      <th>satisfaction_level</th>\n",
       "      <td>1.000000</td>\n",
       "      <td>0.105021</td>\n",
       "      <td>-0.142970</td>\n",
       "      <td>-0.020048</td>\n",
       "      <td>-0.100866</td>\n",
       "      <td>0.058697</td>\n",
       "      <td>-0.388375</td>\n",
       "      <td>0.025605</td>\n",
       "    </tr>\n",
       "    <tr>\n",
       "      <th>last_evaluation</th>\n",
       "      <td>0.105021</td>\n",
       "      <td>1.000000</td>\n",
       "      <td>0.349333</td>\n",
       "      <td>0.339742</td>\n",
       "      <td>0.131591</td>\n",
       "      <td>-0.007104</td>\n",
       "      <td>0.006567</td>\n",
       "      <td>-0.008684</td>\n",
       "    </tr>\n",
       "    <tr>\n",
       "      <th>number_project</th>\n",
       "      <td>-0.142970</td>\n",
       "      <td>0.349333</td>\n",
       "      <td>1.000000</td>\n",
       "      <td>0.417211</td>\n",
       "      <td>0.196786</td>\n",
       "      <td>-0.004741</td>\n",
       "      <td>0.023787</td>\n",
       "      <td>-0.006064</td>\n",
       "    </tr>\n",
       "    <tr>\n",
       "      <th>average_montly_hours</th>\n",
       "      <td>-0.020048</td>\n",
       "      <td>0.339742</td>\n",
       "      <td>0.417211</td>\n",
       "      <td>1.000000</td>\n",
       "      <td>0.127755</td>\n",
       "      <td>-0.010143</td>\n",
       "      <td>0.071287</td>\n",
       "      <td>-0.003544</td>\n",
       "    </tr>\n",
       "    <tr>\n",
       "      <th>time_spend_company</th>\n",
       "      <td>-0.100866</td>\n",
       "      <td>0.131591</td>\n",
       "      <td>0.196786</td>\n",
       "      <td>0.127755</td>\n",
       "      <td>1.000000</td>\n",
       "      <td>0.002120</td>\n",
       "      <td>0.144822</td>\n",
       "      <td>0.067433</td>\n",
       "    </tr>\n",
       "    <tr>\n",
       "      <th>Work_accident</th>\n",
       "      <td>0.058697</td>\n",
       "      <td>-0.007104</td>\n",
       "      <td>-0.004741</td>\n",
       "      <td>-0.010143</td>\n",
       "      <td>0.002120</td>\n",
       "      <td>1.000000</td>\n",
       "      <td>-0.154622</td>\n",
       "      <td>0.039245</td>\n",
       "    </tr>\n",
       "    <tr>\n",
       "      <th>left</th>\n",
       "      <td>-0.388375</td>\n",
       "      <td>0.006567</td>\n",
       "      <td>0.023787</td>\n",
       "      <td>0.071287</td>\n",
       "      <td>0.144822</td>\n",
       "      <td>-0.154622</td>\n",
       "      <td>1.000000</td>\n",
       "      <td>-0.061788</td>\n",
       "    </tr>\n",
       "    <tr>\n",
       "      <th>promotion_last_5years</th>\n",
       "      <td>0.025605</td>\n",
       "      <td>-0.008684</td>\n",
       "      <td>-0.006064</td>\n",
       "      <td>-0.003544</td>\n",
       "      <td>0.067433</td>\n",
       "      <td>0.039245</td>\n",
       "      <td>-0.061788</td>\n",
       "      <td>1.000000</td>\n",
       "    </tr>\n",
       "  </tbody>\n",
       "</table>\n",
       "</div>"
      ],
      "text/plain": [
       "                       satisfaction_level  last_evaluation  number_project  \\\n",
       "satisfaction_level               1.000000         0.105021       -0.142970   \n",
       "last_evaluation                  0.105021         1.000000        0.349333   \n",
       "number_project                  -0.142970         0.349333        1.000000   \n",
       "average_montly_hours            -0.020048         0.339742        0.417211   \n",
       "time_spend_company              -0.100866         0.131591        0.196786   \n",
       "Work_accident                    0.058697        -0.007104       -0.004741   \n",
       "left                            -0.388375         0.006567        0.023787   \n",
       "promotion_last_5years            0.025605        -0.008684       -0.006064   \n",
       "\n",
       "                       average_montly_hours  time_spend_company  \\\n",
       "satisfaction_level                -0.020048           -0.100866   \n",
       "last_evaluation                    0.339742            0.131591   \n",
       "number_project                     0.417211            0.196786   \n",
       "average_montly_hours               1.000000            0.127755   \n",
       "time_spend_company                 0.127755            1.000000   \n",
       "Work_accident                     -0.010143            0.002120   \n",
       "left                               0.071287            0.144822   \n",
       "promotion_last_5years             -0.003544            0.067433   \n",
       "\n",
       "                       Work_accident      left  promotion_last_5years  \n",
       "satisfaction_level          0.058697 -0.388375               0.025605  \n",
       "last_evaluation            -0.007104  0.006567              -0.008684  \n",
       "number_project             -0.004741  0.023787              -0.006064  \n",
       "average_montly_hours       -0.010143  0.071287              -0.003544  \n",
       "time_spend_company          0.002120  0.144822               0.067433  \n",
       "Work_accident               1.000000 -0.154622               0.039245  \n",
       "left                       -0.154622  1.000000              -0.061788  \n",
       "promotion_last_5years       0.039245 -0.061788               1.000000  "
      ]
     },
     "execution_count": 4,
     "metadata": {},
     "output_type": "execute_result"
    }
   ],
   "source": [
    "#analysing the correlation between features\n",
    "retent_df.corr()"
   ]
  },
  {
   "cell_type": "code",
   "execution_count": 5,
   "metadata": {
    "execution": {
     "iopub.execute_input": "2021-03-11T20:30:54.119674Z",
     "iopub.status.busy": "2021-03-11T20:30:54.118789Z",
     "iopub.status.idle": "2021-03-11T20:30:54.477069Z",
     "shell.execute_reply": "2021-03-11T20:30:54.476391Z"
    },
    "papermill": {
     "duration": 0.389267,
     "end_time": "2021-03-11T20:30:54.477237",
     "exception": false,
     "start_time": "2021-03-11T20:30:54.087970",
     "status": "completed"
    },
    "tags": []
   },
   "outputs": [
    {
     "data": {
      "text/plain": [
       "<AxesSubplot:>"
      ]
     },
     "execution_count": 5,
     "metadata": {},
     "output_type": "execute_result"
    },
    {
     "data": {
      "image/png": "[encoded data removed]",
      "text/plain": [
       "<Figure size 432x288 with 2 Axes>"
      ]
     },
     "metadata": {
      "needs_background": "light"
     },
     "output_type": "display_data"
    }
   ],
   "source": [
    "sns.heatmap(retent_df.corr())"
   ]
  },
  {
   "cell_type": "code",
   "execution_count": 6,
   "metadata": {
    "execution": {
     "iopub.execute_input": "2021-03-11T20:30:54.538265Z",
     "iopub.status.busy": "2021-03-11T20:30:54.537310Z",
     "iopub.status.idle": "2021-03-11T20:31:05.915641Z",
     "shell.execute_reply": "2021-03-11T20:31:05.914959Z"
    },
    "papermill": {
     "duration": 11.410559,
     "end_time": "2021-03-11T20:31:05.915788",
     "exception": false,
     "start_time": "2021-03-11T20:30:54.505229",
     "status": "completed"
    },
    "tags": []
   },
   "outputs": [
    {
     "data": {
      "text/plain": [
       "<seaborn.axisgrid.PairGrid at 0x7f434bd3cad0>"
      ]
     },
     "execution_count": 6,
     "metadata": {},
     "output_type": "execute_result"
    },
    {
     "data": {
      "image/png": "[encoded data removed]",
      "text/plain": [
       "<Figure size 1440x1440 with 72 Axes>"
      ]
     },
     "metadata": {
      "needs_background": "light"
     },
     "output_type": "display_data"
    }
   ],
   "source": [
    "sns.pairplot(retent_df.corr())"
   ]
  },
  {
   "cell_type": "code",
   "execution_count": 7,
   "metadata": {
    "execution": {
     "iopub.execute_input": "2021-03-11T20:31:05.985050Z",
     "iopub.status.busy": "2021-03-11T20:31:05.984314Z",
     "iopub.status.idle": "2021-03-11T20:31:06.023139Z",
     "shell.execute_reply": "2021-03-11T20:31:06.022376Z"
    },
    "papermill": {
     "duration": 0.077428,
     "end_time": "2021-03-11T20:31:06.023292",
     "exception": false,
     "start_time": "2021-03-11T20:31:05.945864",
     "status": "completed"
    },
    "tags": []
   },
   "outputs": [
    {
     "data": {
      "text/html": [
       "<div>\n",
       "<style scoped>\n",
       "    .dataframe tbody tr th:only-of-type {\n",
       "        vertical-align: middle;\n",
       "    }\n",
       "\n",
       "    .dataframe tbody tr th {\n",
       "        vertical-align: top;\n",
       "    }\n",
       "\n",
       "    .dataframe thead th {\n",
       "        text-align: right;\n",
       "    }\n",
       "</style>\n",
       "<table border=\"1\" class=\"dataframe\">\n",
       "  <thead>\n",
       "    <tr style=\"text-align: right;\">\n",
       "      <th></th>\n",
       "      <th>satisfaction_level</th>\n",
       "      <th>last_evaluation</th>\n",
       "      <th>number_project</th>\n",
       "      <th>average_montly_hours</th>\n",
       "      <th>time_spend_company</th>\n",
       "      <th>Work_accident</th>\n",
       "      <th>left</th>\n",
       "      <th>promotion_last_5years</th>\n",
       "    </tr>\n",
       "  </thead>\n",
       "  <tbody>\n",
       "    <tr>\n",
       "      <th>count</th>\n",
       "      <td>14999.000000</td>\n",
       "      <td>14999.000000</td>\n",
       "      <td>14999.000000</td>\n",
       "      <td>14999.000000</td>\n",
       "      <td>14999.000000</td>\n",
       "      <td>14999.000000</td>\n",
       "      <td>14999.000000</td>\n",
       "      <td>14999.000000</td>\n",
       "    </tr>\n",
       "    <tr>\n",
       "      <th>mean</th>\n",
       "      <td>0.612834</td>\n",
       "      <td>0.716102</td>\n",
       "      <td>3.803054</td>\n",
       "      <td>201.050337</td>\n",
       "      <td>3.498233</td>\n",
       "      <td>0.144610</td>\n",
       "      <td>0.238083</td>\n",
       "      <td>0.021268</td>\n",
       "    </tr>\n",
       "    <tr>\n",
       "      <th>std</th>\n",
       "      <td>0.248631</td>\n",
       "      <td>0.171169</td>\n",
       "      <td>1.232592</td>\n",
       "      <td>49.943099</td>\n",
       "      <td>1.460136</td>\n",
       "      <td>0.351719</td>\n",
       "      <td>0.425924</td>\n",
       "      <td>0.144281</td>\n",
       "    </tr>\n",
       "    <tr>\n",
       "      <th>min</th>\n",
       "      <td>0.090000</td>\n",
       "      <td>0.360000</td>\n",
       "      <td>2.000000</td>\n",
       "      <td>96.000000</td>\n",
       "      <td>2.000000</td>\n",
       "      <td>0.000000</td>\n",
       "      <td>0.000000</td>\n",
       "      <td>0.000000</td>\n",
       "    </tr>\n",
       "    <tr>\n",
       "      <th>25%</th>\n",
       "      <td>0.440000</td>\n",
       "      <td>0.560000</td>\n",
       "      <td>3.000000</td>\n",
       "      <td>156.000000</td>\n",
       "      <td>3.000000</td>\n",
       "      <td>0.000000</td>\n",
       "      <td>0.000000</td>\n",
       "      <td>0.000000</td>\n",
       "    </tr>\n",
       "    <tr>\n",
       "      <th>50%</th>\n",
       "      <td>0.640000</td>\n",
       "      <td>0.720000</td>\n",
       "      <td>4.000000</td>\n",
       "      <td>200.000000</td>\n",
       "      <td>3.000000</td>\n",
       "      <td>0.000000</td>\n",
       "      <td>0.000000</td>\n",
       "      <td>0.000000</td>\n",
       "    </tr>\n",
       "    <tr>\n",
       "      <th>75%</th>\n",
       "      <td>0.820000</td>\n",
       "      <td>0.870000</td>\n",
       "      <td>5.000000</td>\n",
       "      <td>245.000000</td>\n",
       "      <td>4.000000</td>\n",
       "      <td>0.000000</td>\n",
       "      <td>0.000000</td>\n",
       "      <td>0.000000</td>\n",
       "    </tr>\n",
       "    <tr>\n",
       "      <th>max</th>\n",
       "      <td>1.000000</td>\n",
       "      <td>1.000000</td>\n",
       "      <td>7.000000</td>\n",
       "      <td>310.000000</td>\n",
       "      <td>10.000000</td>\n",
       "      <td>1.000000</td>\n",
       "      <td>1.000000</td>\n",
       "      <td>1.000000</td>\n",
       "    </tr>\n",
       "  </tbody>\n",
       "</table>\n",
       "</div>"
      ],
      "text/plain": [
       "       satisfaction_level  last_evaluation  number_project  \\\n",
       "count        14999.000000     14999.000000    14999.000000   \n",
       "mean             0.612834         0.716102        3.803054   \n",
       "std              0.248631         0.171169        1.232592   \n",
       "min              0.090000         0.360000        2.000000   \n",
       "25%              0.440000         0.560000        3.000000   \n",
       "50%              0.640000         0.720000        4.000000   \n",
       "75%              0.820000         0.870000        5.000000   \n",
       "max              1.000000         1.000000        7.000000   \n",
       "\n",
       "       average_montly_hours  time_spend_company  Work_accident          left  \\\n",
       "count          14999.000000        14999.000000   14999.000000  14999.000000   \n",
       "mean             201.050337            3.498233       0.144610      0.238083   \n",
       "std               49.943099            1.460136       0.351719      0.425924   \n",
       "min               96.000000            2.000000       0.000000      0.000000   \n",
       "25%              156.000000            3.000000       0.000000      0.000000   \n",
       "50%              200.000000            3.000000       0.000000      0.000000   \n",
       "75%              245.000000            4.000000       0.000000      0.000000   \n",
       "max              310.000000           10.000000       1.000000      1.000000   \n",
       "\n",
       "       promotion_last_5years  \n",
       "count           14999.000000  \n",
       "mean                0.021268  \n",
       "std                 0.144281  \n",
       "min                 0.000000  \n",
       "25%                 0.000000  \n",
       "50%                 0.000000  \n",
       "75%                 0.000000  \n",
       "max                 1.000000  "
      ]
     },
     "execution_count": 7,
     "metadata": {},
     "output_type": "execute_result"
    }
   ],
   "source": [
    "retent_df.describe()"
   ]
  },
  {
   "cell_type": "code",
   "execution_count": 8,
   "metadata": {
    "execution": {
     "iopub.execute_input": "2021-03-11T20:31:06.094860Z",
     "iopub.status.busy": "2021-03-11T20:31:06.094127Z",
     "iopub.status.idle": "2021-03-11T20:31:06.101003Z",
     "shell.execute_reply": "2021-03-11T20:31:06.101511Z"
    },
    "papermill": {
     "duration": 0.046646,
     "end_time": "2021-03-11T20:31:06.101695",
     "exception": false,
     "start_time": "2021-03-11T20:31:06.055049",
     "status": "completed"
    },
    "tags": []
   },
   "outputs": [
    {
     "data": {
      "text/plain": [
       "satisfaction_level       0\n",
       "last_evaluation          0\n",
       "number_project           0\n",
       "average_montly_hours     0\n",
       "time_spend_company       0\n",
       "Work_accident            0\n",
       "left                     0\n",
       "promotion_last_5years    0\n",
       "Department               0\n",
       "salary                   0\n",
       "dtype: int64"
      ]
     },
     "execution_count": 8,
     "metadata": {},
     "output_type": "execute_result"
    }
   ],
   "source": [
    "#checking null values\n",
    "retent_df.isna().sum()"
   ]
  },
  {
   "cell_type": "markdown",
   "metadata": {
    "papermill": {
     "duration": 0.03068,
     "end_time": "2021-03-11T20:31:06.163886",
     "exception": false,
     "start_time": "2021-03-11T20:31:06.133206",
     "status": "completed"
    },
    "tags": []
   },
   "source": [
    "## 2.1 CATEGORICAL FEATURES ANALYSIS "
   ]
  },
  {
   "cell_type": "code",
   "execution_count": 9,
   "metadata": {
    "execution": {
     "iopub.execute_input": "2021-03-11T20:31:06.234175Z",
     "iopub.status.busy": "2021-03-11T20:31:06.232257Z",
     "iopub.status.idle": "2021-03-11T20:31:06.355262Z",
     "shell.execute_reply": "2021-03-11T20:31:06.356067Z"
    },
    "papermill": {
     "duration": 0.161491,
     "end_time": "2021-03-11T20:31:06.356361",
     "exception": false,
     "start_time": "2021-03-11T20:31:06.194870",
     "status": "completed"
    },
    "tags": []
   },
   "outputs": [
    {
     "data": {
      "text/html": [
       "<style  type=\"text/css\" >\n",
       "#T_bbca0_row0_col0{\n",
       "            background-color:  #d5ea66;\n",
       "            color:  #000000;\n",
       "        }#T_bbca0_row0_col1{\n",
       "            background-color:  #cde666;\n",
       "            color:  #000000;\n",
       "        }#T_bbca0_row1_col0{\n",
       "            background-color:  #f2f866;\n",
       "            color:  #000000;\n",
       "        }#T_bbca0_row1_col1{\n",
       "            background-color:  #f7fb66;\n",
       "            color:  #000000;\n",
       "        }#T_bbca0_row2_col0{\n",
       "            background-color:  #fcfe66;\n",
       "            color:  #000000;\n",
       "        }#T_bbca0_row2_col1,#T_bbca0_row5_col1{\n",
       "            background-color:  #e0f066;\n",
       "            color:  #000000;\n",
       "        }#T_bbca0_row3_col0,#T_bbca0_row4_col1{\n",
       "            background-color:  #ffff66;\n",
       "            color:  #000000;\n",
       "        }#T_bbca0_row3_col1{\n",
       "            background-color:  #ddee66;\n",
       "            color:  #000000;\n",
       "        }#T_bbca0_row4_col0{\n",
       "            background-color:  #fefe66;\n",
       "            color:  #000000;\n",
       "        }#T_bbca0_row5_col0{\n",
       "            background-color:  #f3f966;\n",
       "            color:  #000000;\n",
       "        }#T_bbca0_row6_col0{\n",
       "            background-color:  #eef666;\n",
       "            color:  #000000;\n",
       "        }#T_bbca0_row6_col1{\n",
       "            background-color:  #e2f066;\n",
       "            color:  #000000;\n",
       "        }#T_bbca0_row7_col0,#T_bbca0_row7_col1{\n",
       "            background-color:  #008066;\n",
       "            color:  #f1f1f1;\n",
       "        }#T_bbca0_row8_col0{\n",
       "            background-color:  #8ec666;\n",
       "            color:  #000000;\n",
       "        }#T_bbca0_row8_col1{\n",
       "            background-color:  #7fbf66;\n",
       "            color:  #000000;\n",
       "        }#T_bbca0_row9_col0{\n",
       "            background-color:  #6cb666;\n",
       "            color:  #000000;\n",
       "        }#T_bbca0_row9_col1{\n",
       "            background-color:  #57ab66;\n",
       "            color:  #000000;\n",
       "        }</style><table id=\"T_bbca0_\" ><thead>    <tr>        <th class=\"index_name level0\" >left</th>        <th class=\"col_heading level0 col0\" >0</th>        <th class=\"col_heading level0 col1\" >1</th>    </tr>    <tr>        <th class=\"index_name level0\" >Department</th>        <th class=\"blank\" ></th>        <th class=\"blank\" ></th>    </tr></thead><tbody>\n",
       "                <tr>\n",
       "                        <th id=\"T_bbca0_level0_row0\" class=\"row_heading level0 row0\" >IT</th>\n",
       "                        <td id=\"T_bbca0_row0_col0\" class=\"data row0 col0\" >954</td>\n",
       "                        <td id=\"T_bbca0_row0_col1\" class=\"data row0 col1\" >273</td>\n",
       "            </tr>\n",
       "            <tr>\n",
       "                        <th id=\"T_bbca0_level0_row1\" class=\"row_heading level0 row1\" >RandD</th>\n",
       "                        <td id=\"T_bbca0_row1_col0\" class=\"data row1 col0\" >666</td>\n",
       "                        <td id=\"T_bbca0_row1_col1\" class=\"data row1 col1\" >121</td>\n",
       "            </tr>\n",
       "            <tr>\n",
       "                        <th id=\"T_bbca0_level0_row2\" class=\"row_heading level0 row2\" >accounting</th>\n",
       "                        <td id=\"T_bbca0_row2_col0\" class=\"data row2 col0\" >563</td>\n",
       "                        <td id=\"T_bbca0_row2_col1\" class=\"data row2 col1\" >204</td>\n",
       "            </tr>\n",
       "            <tr>\n",
       "                        <th id=\"T_bbca0_level0_row3\" class=\"row_heading level0 row3\" >hr</th>\n",
       "                        <td id=\"T_bbca0_row3_col0\" class=\"data row3 col0\" >524</td>\n",
       "                        <td id=\"T_bbca0_row3_col1\" class=\"data row3 col1\" >215</td>\n",
       "            </tr>\n",
       "            <tr>\n",
       "                        <th id=\"T_bbca0_level0_row4\" class=\"row_heading level0 row4\" >management</th>\n",
       "                        <td id=\"T_bbca0_row4_col0\" class=\"data row4 col0\" >539</td>\n",
       "                        <td id=\"T_bbca0_row4_col1\" class=\"data row4 col1\" >91</td>\n",
       "            </tr>\n",
       "            <tr>\n",
       "                        <th id=\"T_bbca0_level0_row5\" class=\"row_heading level0 row5\" >marketing</th>\n",
       "                        <td id=\"T_bbca0_row5_col0\" class=\"data row5 col0\" >655</td>\n",
       "                        <td id=\"T_bbca0_row5_col1\" class=\"data row5 col1\" >203</td>\n",
       "            </tr>\n",
       "            <tr>\n",
       "                        <th id=\"T_bbca0_level0_row6\" class=\"row_heading level0 row6\" >product_mng</th>\n",
       "                        <td id=\"T_bbca0_row6_col0\" class=\"data row6 col0\" >704</td>\n",
       "                        <td id=\"T_bbca0_row6_col1\" class=\"data row6 col1\" >198</td>\n",
       "            </tr>\n",
       "            <tr>\n",
       "                        <th id=\"T_bbca0_level0_row7\" class=\"row_heading level0 row7\" >sales</th>\n",
       "                        <td id=\"T_bbca0_row7_col0\" class=\"data row7 col0\" >3126</td>\n",
       "                        <td id=\"T_bbca0_row7_col1\" class=\"data row7 col1\" >1014</td>\n",
       "            </tr>\n",
       "            <tr>\n",
       "                        <th id=\"T_bbca0_level0_row8\" class=\"row_heading level0 row8\" >support</th>\n",
       "                        <td id=\"T_bbca0_row8_col0\" class=\"data row8 col0\" >1674</td>\n",
       "                        <td id=\"T_bbca0_row8_col1\" class=\"data row8 col1\" >555</td>\n",
       "            </tr>\n",
       "            <tr>\n",
       "                        <th id=\"T_bbca0_level0_row9\" class=\"row_heading level0 row9\" >technical</th>\n",
       "                        <td id=\"T_bbca0_row9_col0\" class=\"data row9 col0\" >2023</td>\n",
       "                        <td id=\"T_bbca0_row9_col1\" class=\"data row9 col1\" >697</td>\n",
       "            </tr>\n",
       "    </tbody></table>"
      ],
      "text/plain": [
       "<pandas.io.formats.style.Styler at 0x7f434a430b10>"
      ]
     },
     "execution_count": 9,
     "metadata": {},
     "output_type": "execute_result"
    }
   ],
   "source": [
    "pd.crosstab(retent_df.Department, retent_df.left).style.background_gradient(cmap='summer_r')"
   ]
  },
  {
   "cell_type": "markdown",
   "metadata": {
    "papermill": {
     "duration": 0.031728,
     "end_time": "2021-03-11T20:31:06.427038",
     "exception": false,
     "start_time": "2021-03-11T20:31:06.395310",
     "status": "completed"
    },
    "tags": []
   },
   "source": [
    "From the graph, it is understood that employees from Sales Department has left the organisation in greater numbers."
   ]
  },
  {
   "cell_type": "code",
   "execution_count": 10,
   "metadata": {
    "execution": {
     "iopub.execute_input": "2021-03-11T20:31:06.498659Z",
     "iopub.status.busy": "2021-03-11T20:31:06.497661Z",
     "iopub.status.idle": "2021-03-11T20:31:06.700450Z",
     "shell.execute_reply": "2021-03-11T20:31:06.699795Z"
    },
    "papermill": {
     "duration": 0.240768,
     "end_time": "2021-03-11T20:31:06.700592",
     "exception": false,
     "start_time": "2021-03-11T20:31:06.459824",
     "status": "completed"
    },
    "tags": []
   },
   "outputs": [
    {
     "data": {
      "text/plain": [
       "Text(0.5, 1.0, 'Salary vs Employee Attrition')"
      ]
     },
     "execution_count": 10,
     "metadata": {},
     "output_type": "execute_result"
    },
    {
     "data": {
      "image/png": "[encoded data removed]",
      "text/plain": [
       "<Figure size 432x288 with 1 Axes>"
      ]
     },
     "metadata": {
      "needs_background": "light"
     },
     "output_type": "display_data"
    }
   ],
   "source": [
    "pd.crosstab(retent_df.salary, retent_df.left).plot(kind='bar')\n",
    "plt.title('Salary vs Employee Attrition')"
   ]
  },
  {
   "cell_type": "markdown",
   "metadata": {
    "papermill": {
     "duration": 0.032924,
     "end_time": "2021-03-11T20:31:06.766850",
     "exception": false,
     "start_time": "2021-03-11T20:31:06.733926",
     "status": "completed"
    },
    "tags": []
   },
   "source": [
    "It seems like Low income employees has left the most from the organisation."
   ]
  },
  {
   "cell_type": "code",
   "execution_count": 11,
   "metadata": {
    "execution": {
     "iopub.execute_input": "2021-03-11T20:31:06.844148Z",
     "iopub.status.busy": "2021-03-11T20:31:06.843378Z",
     "iopub.status.idle": "2021-03-11T20:31:07.022033Z",
     "shell.execute_reply": "2021-03-11T20:31:07.021384Z"
    },
    "papermill": {
     "duration": 0.222266,
     "end_time": "2021-03-11T20:31:07.022204",
     "exception": false,
     "start_time": "2021-03-11T20:31:06.799938",
     "status": "completed"
    },
    "tags": []
   },
   "outputs": [
    {
     "data": {
      "text/plain": [
       "([<matplotlib.axis.XTick at 0x7f4345409d90>,\n",
       "  <matplotlib.axis.XTick at 0x7f434540c610>],\n",
       " [Text(0, 0, 'No'), Text(1, 0, 'Yes')])"
      ]
     },
     "execution_count": 11,
     "metadata": {},
     "output_type": "execute_result"
    },
    {
     "data": {
      "image/png": "[encoded data removed]",
      "text/plain": [
       "<Figure size 432x288 with 1 Axes>"
      ]
     },
     "metadata": {
      "needs_background": "light"
     },
     "output_type": "display_data"
    }
   ],
   "source": [
    "pd.crosstab(retent_df.Work_accident, retent_df.left).plot(kind='bar',cmap='copper')\n",
    "plt.title('Work accident vs Employee retention')\n",
    "plt.xticks([0,1],['No','Yes'])"
   ]
  },
  {
   "cell_type": "markdown",
   "metadata": {
    "papermill": {
     "duration": 0.034496,
     "end_time": "2021-03-11T20:31:07.091832",
     "exception": false,
     "start_time": "2021-03-11T20:31:07.057336",
     "status": "completed"
    },
    "tags": []
   },
   "source": [
    "Work accident does not influence Employee retention rate."
   ]
  },
  {
   "cell_type": "markdown",
   "metadata": {
    "papermill": {
     "duration": 0.033803,
     "end_time": "2021-03-11T20:31:07.159927",
     "exception": false,
     "start_time": "2021-03-11T20:31:07.126124",
     "status": "completed"
    },
    "tags": []
   },
   "source": [
    "## 2.2 QUANTITATIVE FEATURES ANALYSIS "
   ]
  },
  {
   "cell_type": "code",
   "execution_count": 12,
   "metadata": {
    "execution": {
     "iopub.execute_input": "2021-03-11T20:31:07.235666Z",
     "iopub.status.busy": "2021-03-11T20:31:07.234898Z",
     "iopub.status.idle": "2021-03-11T20:31:07.250526Z",
     "shell.execute_reply": "2021-03-11T20:31:07.249616Z"
    },
    "papermill": {
     "duration": 0.056636,
     "end_time": "2021-03-11T20:31:07.250675",
     "exception": false,
     "start_time": "2021-03-11T20:31:07.194039",
     "status": "completed"
    },
    "tags": []
   },
   "outputs": [
    {
     "data": {
      "text/html": [
       "<div>\n",
       "<style scoped>\n",
       "    .dataframe tbody tr th:only-of-type {\n",
       "        vertical-align: middle;\n",
       "    }\n",
       "\n",
       "    .dataframe tbody tr th {\n",
       "        vertical-align: top;\n",
       "    }\n",
       "\n",
       "    .dataframe thead th {\n",
       "        text-align: right;\n",
       "    }\n",
       "</style>\n",
       "<table border=\"1\" class=\"dataframe\">\n",
       "  <thead>\n",
       "    <tr style=\"text-align: right;\">\n",
       "      <th></th>\n",
       "      <th>satisfaction_level</th>\n",
       "      <th>last_evaluation</th>\n",
       "      <th>number_project</th>\n",
       "      <th>average_montly_hours</th>\n",
       "      <th>time_spend_company</th>\n",
       "      <th>Work_accident</th>\n",
       "      <th>promotion_last_5years</th>\n",
       "    </tr>\n",
       "    <tr>\n",
       "      <th>left</th>\n",
       "      <th></th>\n",
       "      <th></th>\n",
       "      <th></th>\n",
       "      <th></th>\n",
       "      <th></th>\n",
       "      <th></th>\n",
       "      <th></th>\n",
       "    </tr>\n",
       "  </thead>\n",
       "  <tbody>\n",
       "    <tr>\n",
       "      <th>0</th>\n",
       "      <td>0.666810</td>\n",
       "      <td>0.715473</td>\n",
       "      <td>3.786664</td>\n",
       "      <td>199.060203</td>\n",
       "      <td>3.380032</td>\n",
       "      <td>0.175009</td>\n",
       "      <td>0.026251</td>\n",
       "    </tr>\n",
       "    <tr>\n",
       "      <th>1</th>\n",
       "      <td>0.440098</td>\n",
       "      <td>0.718113</td>\n",
       "      <td>3.855503</td>\n",
       "      <td>207.419210</td>\n",
       "      <td>3.876505</td>\n",
       "      <td>0.047326</td>\n",
       "      <td>0.005321</td>\n",
       "    </tr>\n",
       "  </tbody>\n",
       "</table>\n",
       "</div>"
      ],
      "text/plain": [
       "      satisfaction_level  last_evaluation  number_project  \\\n",
       "left                                                        \n",
       "0               0.666810         0.715473        3.786664   \n",
       "1               0.440098         0.718113        3.855503   \n",
       "\n",
       "      average_montly_hours  time_spend_company  Work_accident  \\\n",
       "left                                                            \n",
       "0               199.060203            3.380032       0.175009   \n",
       "1               207.419210            3.876505       0.047326   \n",
       "\n",
       "      promotion_last_5years  \n",
       "left                         \n",
       "0                  0.026251  \n",
       "1                  0.005321  "
      ]
     },
     "execution_count": 12,
     "metadata": {},
     "output_type": "execute_result"
    }
   ],
   "source": [
    "retent_df.groupby('left').mean()"
   ]
  },
  {
   "cell_type": "markdown",
   "metadata": {
    "papermill": {
     "duration": 0.034614,
     "end_time": "2021-03-11T20:31:07.320228",
     "exception": false,
     "start_time": "2021-03-11T20:31:07.285614",
     "status": "completed"
    },
    "tags": []
   },
   "source": [
    "From the above table, it can be seen that satisfaction level and promotion rate is low in employees who has left the organisation. Average working hours and time spent in the company is higher for the resigned employees. These 4 features can be chosen for prediction."
   ]
  },
  {
   "cell_type": "code",
   "execution_count": 13,
   "metadata": {
    "execution": {
     "iopub.execute_input": "2021-03-11T20:31:07.396149Z",
     "iopub.status.busy": "2021-03-11T20:31:07.395473Z",
     "iopub.status.idle": "2021-03-11T20:31:07.619128Z",
     "shell.execute_reply": "2021-03-11T20:31:07.619667Z"
    },
    "papermill": {
     "duration": 0.265091,
     "end_time": "2021-03-11T20:31:07.619982",
     "exception": false,
     "start_time": "2021-03-11T20:31:07.354891",
     "status": "completed"
    },
    "tags": []
   },
   "outputs": [
    {
     "data": {
      "text/plain": [
       "([<matplotlib.axis.XTick at 0x7f4347cc0850>,\n",
       "  <matplotlib.axis.XTick at 0x7f4345394bd0>],\n",
       " [Text(0, 0, 'No'), Text(1, 0, 'Yes')])"
      ]
     },
     "execution_count": 13,
     "metadata": {},
     "output_type": "execute_result"
    },
    {
     "data": {
      "image/png": "[encoded data removed]",
      "text/plain": [
       "<Figure size 432x288 with 1 Axes>"
      ]
     },
     "metadata": {
      "needs_background": "light"
     },
     "output_type": "display_data"
    }
   ],
   "source": [
    "#satisfaction level vs employee attrition\n",
    "sns.violinplot(x='left', y='satisfaction_level',data=retent_df)\n",
    "plt.title('Satisfaction level vs Employee attrition')\n",
    "plt.tight_layout()\n",
    "plt.xticks([0,1],['No','Yes'])"
   ]
  },
  {
   "cell_type": "markdown",
   "metadata": {
    "papermill": {
     "duration": 0.035866,
     "end_time": "2021-03-11T20:31:07.691905",
     "exception": false,
     "start_time": "2021-03-11T20:31:07.656039",
     "status": "completed"
    },
    "tags": []
   },
   "source": [
    "It seems like the employees with lower satisfaction rate has left the most."
   ]
  },
  {
   "cell_type": "code",
   "execution_count": 14,
   "metadata": {
    "execution": {
     "iopub.execute_input": "2021-03-11T20:31:07.767032Z",
     "iopub.status.busy": "2021-03-11T20:31:07.766428Z",
     "iopub.status.idle": "2021-03-11T20:31:07.793042Z",
     "shell.execute_reply": "2021-03-11T20:31:07.792509Z"
    },
    "papermill": {
     "duration": 0.0654,
     "end_time": "2021-03-11T20:31:07.793206",
     "exception": false,
     "start_time": "2021-03-11T20:31:07.727806",
     "status": "completed"
    },
    "tags": []
   },
   "outputs": [
    {
     "data": {
      "text/html": [
       "<style  type=\"text/css\" >\n",
       "#T_f3386_row0_col0,#T_f3386_row0_col1{\n",
       "            background-color:  #008066;\n",
       "            color:  #f1f1f1;\n",
       "        }#T_f3386_row1_col0,#T_f3386_row1_col1{\n",
       "            background-color:  #ffff66;\n",
       "            color:  #000000;\n",
       "        }</style><table id=\"T_f3386_\" ><thead>    <tr>        <th class=\"index_name level0\" >left</th>        <th class=\"col_heading level0 col0\" >0</th>        <th class=\"col_heading level0 col1\" >1</th>    </tr>    <tr>        <th class=\"index_name level0\" >promotion_last_5years</th>        <th class=\"blank\" ></th>        <th class=\"blank\" ></th>    </tr></thead><tbody>\n",
       "                <tr>\n",
       "                        <th id=\"T_f3386_level0_row0\" class=\"row_heading level0 row0\" >0</th>\n",
       "                        <td id=\"T_f3386_row0_col0\" class=\"data row0 col0\" >11128</td>\n",
       "                        <td id=\"T_f3386_row0_col1\" class=\"data row0 col1\" >3552</td>\n",
       "            </tr>\n",
       "            <tr>\n",
       "                        <th id=\"T_f3386_level0_row1\" class=\"row_heading level0 row1\" >1</th>\n",
       "                        <td id=\"T_f3386_row1_col0\" class=\"data row1 col0\" >300</td>\n",
       "                        <td id=\"T_f3386_row1_col1\" class=\"data row1 col1\" >19</td>\n",
       "            </tr>\n",
       "    </tbody></table>"
      ],
      "text/plain": [
       "<pandas.io.formats.style.Styler at 0x7f4345349950>"
      ]
     },
     "execution_count": 14,
     "metadata": {},
     "output_type": "execute_result"
    }
   ],
   "source": [
    "#promotion vs Employee attrition\n",
    "pd.crosstab(retent_df.promotion_last_5years, retent_df.left).style.background_gradient(cmap='summer_r')"
   ]
  },
  {
   "cell_type": "markdown",
   "metadata": {
    "papermill": {
     "duration": 0.036151,
     "end_time": "2021-03-11T20:31:07.865902",
     "exception": false,
     "start_time": "2021-03-11T20:31:07.829751",
     "status": "completed"
    },
    "tags": []
   },
   "source": [
    "Employees who received no promotions has left the organisation in greater numbers."
   ]
  },
  {
   "cell_type": "code",
   "execution_count": 15,
   "metadata": {
    "execution": {
     "iopub.execute_input": "2021-03-11T20:31:07.942427Z",
     "iopub.status.busy": "2021-03-11T20:31:07.941753Z",
     "iopub.status.idle": "2021-03-11T20:31:07.946779Z",
     "shell.execute_reply": "2021-03-11T20:31:07.947306Z"
    },
    "papermill": {
     "duration": 0.044872,
     "end_time": "2021-03-11T20:31:07.947480",
     "exception": false,
     "start_time": "2021-03-11T20:31:07.902608",
     "status": "completed"
    },
    "tags": []
   },
   "outputs": [
    {
     "data": {
      "text/plain": [
       "Index(['satisfaction_level', 'last_evaluation', 'number_project',\n",
       "       'average_montly_hours', 'time_spend_company', 'Work_accident', 'left',\n",
       "       'promotion_last_5years', 'Department', 'salary'],\n",
       "      dtype='object')"
      ]
     },
     "execution_count": 15,
     "metadata": {},
     "output_type": "execute_result"
    }
   ],
   "source": [
    "retent_df.columns"
   ]
  },
  {
   "cell_type": "code",
   "execution_count": 16,
   "metadata": {
    "execution": {
     "iopub.execute_input": "2021-03-11T20:31:08.026031Z",
     "iopub.status.busy": "2021-03-11T20:31:08.025393Z",
     "iopub.status.idle": "2021-03-11T20:31:08.177956Z",
     "shell.execute_reply": "2021-03-11T20:31:08.177435Z"
    },
    "papermill": {
     "duration": 0.193152,
     "end_time": "2021-03-11T20:31:08.178109",
     "exception": false,
     "start_time": "2021-03-11T20:31:07.984957",
     "status": "completed"
    },
    "tags": []
   },
   "outputs": [
    {
     "data": {
      "text/plain": [
       "([<matplotlib.axis.XTick at 0x7f434537a290>,\n",
       "  <matplotlib.axis.XTick at 0x7f4345316ad0>],\n",
       " [Text(0, 0, 'No'), Text(1, 0, 'Yes')])"
      ]
     },
     "execution_count": 16,
     "metadata": {},
     "output_type": "execute_result"
    },
    {
     "data": {
      "image/png": "[encoded data removed]",
      "text/plain": [
       "<Figure size 432x288 with 1 Axes>"
      ]
     },
     "metadata": {
      "needs_background": "light"
     },
     "output_type": "display_data"
    }
   ],
   "source": [
    "sns.boxplot(x='left', y='average_montly_hours', data=retent_df)\n",
    "plt.title('Average monthly hours vs Employee attrition')\n",
    "plt.xticks([0,1],['No','Yes'])"
   ]
  },
  {
   "cell_type": "markdown",
   "metadata": {
    "papermill": {
     "duration": 0.037986,
     "end_time": "2021-03-11T20:31:08.254225",
     "exception": false,
     "start_time": "2021-03-11T20:31:08.216239",
     "status": "completed"
    },
    "tags": []
   },
   "source": [
    "Employees who spent more time in working has left in greater numbers."
   ]
  },
  {
   "cell_type": "code",
   "execution_count": 17,
   "metadata": {
    "execution": {
     "iopub.execute_input": "2021-03-11T20:31:08.337371Z",
     "iopub.status.busy": "2021-03-11T20:31:08.336666Z",
     "iopub.status.idle": "2021-03-11T20:31:08.508815Z",
     "shell.execute_reply": "2021-03-11T20:31:08.509427Z"
    },
    "papermill": {
     "duration": 0.217,
     "end_time": "2021-03-11T20:31:08.509619",
     "exception": false,
     "start_time": "2021-03-11T20:31:08.292619",
     "status": "completed"
    },
    "tags": []
   },
   "outputs": [
    {
     "data": {
      "text/plain": [
       "([<matplotlib.axis.XTick at 0x7f43452979d0>,\n",
       "  <matplotlib.axis.XTick at 0x7f4345299610>],\n",
       " [Text(0, 0, 'No'), Text(1, 0, 'Yes')])"
      ]
     },
     "execution_count": 17,
     "metadata": {},
     "output_type": "execute_result"
    },
    {
     "data": {
      "image/png": "[encoded data removed]",
      "text/plain": [
       "<Figure size 432x288 with 1 Axes>"
      ]
     },
     "metadata": {
      "needs_background": "light"
     },
     "output_type": "display_data"
    }
   ],
   "source": [
    "#Time spent in the company vs Employee attrition\n",
    "sns.boxplot(x='left', y='time_spend_company', data=retent_df)\n",
    "plt.title('Time spent in the company vs Employee attrition')\n",
    "plt.xticks([0,1],['No','Yes'])"
   ]
  },
  {
   "cell_type": "markdown",
   "metadata": {
    "papermill": {
     "duration": 0.03935,
     "end_time": "2021-03-11T20:31:08.588593",
     "exception": false,
     "start_time": "2021-03-11T20:31:08.549243",
     "status": "completed"
    },
    "tags": []
   },
   "source": [
    "Thus, it is safe to conclude that Department, Salary, satisfaction level, promotion, average working hours in a month and time spent in the company influences the Employee attrition rate. Hence these features are chosen for prediction."
   ]
  },
  {
   "cell_type": "markdown",
   "metadata": {
    "papermill": {
     "duration": 0.039277,
     "end_time": "2021-03-11T20:31:08.667318",
     "exception": false,
     "start_time": "2021-03-11T20:31:08.628041",
     "status": "completed"
    },
    "tags": []
   },
   "source": [
    "# 3. DATA TRANSFORMATION"
   ]
  },
  {
   "cell_type": "code",
   "execution_count": 18,
   "metadata": {
    "execution": {
     "iopub.execute_input": "2021-03-11T20:31:08.761534Z",
     "iopub.status.busy": "2021-03-11T20:31:08.760543Z",
     "iopub.status.idle": "2021-03-11T20:31:08.765369Z",
     "shell.execute_reply": "2021-03-11T20:31:08.764742Z"
    },
    "papermill": {
     "duration": 0.058795,
     "end_time": "2021-03-11T20:31:08.765508",
     "exception": false,
     "start_time": "2021-03-11T20:31:08.706713",
     "status": "completed"
    },
    "tags": []
   },
   "outputs": [
    {
     "data": {
      "text/html": [
       "<div>\n",
       "<style scoped>\n",
       "    .dataframe tbody tr th:only-of-type {\n",
       "        vertical-align: middle;\n",
       "    }\n",
       "\n",
       "    .dataframe tbody tr th {\n",
       "        vertical-align: top;\n",
       "    }\n",
       "\n",
       "    .dataframe thead th {\n",
       "        text-align: right;\n",
       "    }\n",
       "</style>\n",
       "<table border=\"1\" class=\"dataframe\">\n",
       "  <thead>\n",
       "    <tr style=\"text-align: right;\">\n",
       "      <th></th>\n",
       "      <th>Department</th>\n",
       "      <th>salary</th>\n",
       "      <th>satisfaction_level</th>\n",
       "      <th>promotion_last_5years</th>\n",
       "      <th>average_montly_hours</th>\n",
       "      <th>time_spend_company</th>\n",
       "    </tr>\n",
       "  </thead>\n",
       "  <tbody>\n",
       "    <tr>\n",
       "      <th>0</th>\n",
       "      <td>sales</td>\n",
       "      <td>low</td>\n",
       "      <td>0.38</td>\n",
       "      <td>0</td>\n",
       "      <td>157</td>\n",
       "      <td>3</td>\n",
       "    </tr>\n",
       "    <tr>\n",
       "      <th>1</th>\n",
       "      <td>sales</td>\n",
       "      <td>medium</td>\n",
       "      <td>0.80</td>\n",
       "      <td>0</td>\n",
       "      <td>262</td>\n",
       "      <td>6</td>\n",
       "    </tr>\n",
       "    <tr>\n",
       "      <th>2</th>\n",
       "      <td>sales</td>\n",
       "      <td>medium</td>\n",
       "      <td>0.11</td>\n",
       "      <td>0</td>\n",
       "      <td>272</td>\n",
       "      <td>4</td>\n",
       "    </tr>\n",
       "    <tr>\n",
       "      <th>3</th>\n",
       "      <td>sales</td>\n",
       "      <td>low</td>\n",
       "      <td>0.72</td>\n",
       "      <td>0</td>\n",
       "      <td>223</td>\n",
       "      <td>5</td>\n",
       "    </tr>\n",
       "    <tr>\n",
       "      <th>4</th>\n",
       "      <td>sales</td>\n",
       "      <td>low</td>\n",
       "      <td>0.37</td>\n",
       "      <td>0</td>\n",
       "      <td>159</td>\n",
       "      <td>3</td>\n",
       "    </tr>\n",
       "  </tbody>\n",
       "</table>\n",
       "</div>"
      ],
      "text/plain": [
       "  Department  salary  satisfaction_level  promotion_last_5years  \\\n",
       "0      sales     low                0.38                      0   \n",
       "1      sales  medium                0.80                      0   \n",
       "2      sales  medium                0.11                      0   \n",
       "3      sales     low                0.72                      0   \n",
       "4      sales     low                0.37                      0   \n",
       "\n",
       "   average_montly_hours  time_spend_company  \n",
       "0                   157                   3  \n",
       "1                   262                   6  \n",
       "2                   272                   4  \n",
       "3                   223                   5  \n",
       "4                   159                   3  "
      ]
     },
     "execution_count": 18,
     "metadata": {},
     "output_type": "execute_result"
    }
   ],
   "source": [
    "#save the 6 features selected from feature analysis in a separate dataframe\n",
    "df = retent_df[['Department','salary','satisfaction_level','promotion_last_5years','average_montly_hours','time_spend_company']]\n",
    "df.head()"
   ]
  },
  {
   "cell_type": "code",
   "execution_count": 19,
   "metadata": {
    "execution": {
     "iopub.execute_input": "2021-03-11T20:31:08.854768Z",
     "iopub.status.busy": "2021-03-11T20:31:08.853690Z",
     "iopub.status.idle": "2021-03-11T20:31:08.867817Z",
     "shell.execute_reply": "2021-03-11T20:31:08.867285Z"
    },
    "papermill": {
     "duration": 0.06133,
     "end_time": "2021-03-11T20:31:08.867965",
     "exception": false,
     "start_time": "2021-03-11T20:31:08.806635",
     "status": "completed"
    },
    "tags": []
   },
   "outputs": [
    {
     "data": {
      "text/html": [
       "<div>\n",
       "<style scoped>\n",
       "    .dataframe tbody tr th:only-of-type {\n",
       "        vertical-align: middle;\n",
       "    }\n",
       "\n",
       "    .dataframe tbody tr th {\n",
       "        vertical-align: top;\n",
       "    }\n",
       "\n",
       "    .dataframe thead th {\n",
       "        text-align: right;\n",
       "    }\n",
       "</style>\n",
       "<table border=\"1\" class=\"dataframe\">\n",
       "  <thead>\n",
       "    <tr style=\"text-align: right;\">\n",
       "      <th></th>\n",
       "      <th>salary_high</th>\n",
       "      <th>salary_low</th>\n",
       "      <th>salary_medium</th>\n",
       "    </tr>\n",
       "  </thead>\n",
       "  <tbody>\n",
       "    <tr>\n",
       "      <th>0</th>\n",
       "      <td>0</td>\n",
       "      <td>1</td>\n",
       "      <td>0</td>\n",
       "    </tr>\n",
       "    <tr>\n",
       "      <th>1</th>\n",
       "      <td>0</td>\n",
       "      <td>0</td>\n",
       "      <td>1</td>\n",
       "    </tr>\n",
       "    <tr>\n",
       "      <th>2</th>\n",
       "      <td>0</td>\n",
       "      <td>0</td>\n",
       "      <td>1</td>\n",
       "    </tr>\n",
       "    <tr>\n",
       "      <th>3</th>\n",
       "      <td>0</td>\n",
       "      <td>1</td>\n",
       "      <td>0</td>\n",
       "    </tr>\n",
       "    <tr>\n",
       "      <th>4</th>\n",
       "      <td>0</td>\n",
       "      <td>1</td>\n",
       "      <td>0</td>\n",
       "    </tr>\n",
       "    <tr>\n",
       "      <th>...</th>\n",
       "      <td>...</td>\n",
       "      <td>...</td>\n",
       "      <td>...</td>\n",
       "    </tr>\n",
       "    <tr>\n",
       "      <th>14994</th>\n",
       "      <td>0</td>\n",
       "      <td>1</td>\n",
       "      <td>0</td>\n",
       "    </tr>\n",
       "    <tr>\n",
       "      <th>14995</th>\n",
       "      <td>0</td>\n",
       "      <td>1</td>\n",
       "      <td>0</td>\n",
       "    </tr>\n",
       "    <tr>\n",
       "      <th>14996</th>\n",
       "      <td>0</td>\n",
       "      <td>1</td>\n",
       "      <td>0</td>\n",
       "    </tr>\n",
       "    <tr>\n",
       "      <th>14997</th>\n",
       "      <td>0</td>\n",
       "      <td>1</td>\n",
       "      <td>0</td>\n",
       "    </tr>\n",
       "    <tr>\n",
       "      <th>14998</th>\n",
       "      <td>0</td>\n",
       "      <td>1</td>\n",
       "      <td>0</td>\n",
       "    </tr>\n",
       "  </tbody>\n",
       "</table>\n",
       "<p>14999 rows × 3 columns</p>\n",
       "</div>"
      ],
      "text/plain": [
       "       salary_high  salary_low  salary_medium\n",
       "0                0           1              0\n",
       "1                0           0              1\n",
       "2                0           0              1\n",
       "3                0           1              0\n",
       "4                0           1              0\n",
       "...            ...         ...            ...\n",
       "14994            0           1              0\n",
       "14995            0           1              0\n",
       "14996            0           1              0\n",
       "14997            0           1              0\n",
       "14998            0           1              0\n",
       "\n",
       "[14999 rows x 3 columns]"
      ]
     },
     "execution_count": 19,
     "metadata": {},
     "output_type": "execute_result"
    }
   ],
   "source": [
    "#transform the data to numerical so that it can be passed to the model\n",
    "salary_df = pd.get_dummies(df.salary, prefix='salary')\n",
    "salary_df"
   ]
  },
  {
   "cell_type": "code",
   "execution_count": 20,
   "metadata": {
    "execution": {
     "iopub.execute_input": "2021-03-11T20:31:08.957545Z",
     "iopub.status.busy": "2021-03-11T20:31:08.956856Z",
     "iopub.status.idle": "2021-03-11T20:31:08.970468Z",
     "shell.execute_reply": "2021-03-11T20:31:08.969931Z"
    },
    "papermill": {
     "duration": 0.06078,
     "end_time": "2021-03-11T20:31:08.970617",
     "exception": false,
     "start_time": "2021-03-11T20:31:08.909837",
     "status": "completed"
    },
    "tags": []
   },
   "outputs": [
    {
     "data": {
      "text/html": [
       "<div>\n",
       "<style scoped>\n",
       "    .dataframe tbody tr th:only-of-type {\n",
       "        vertical-align: middle;\n",
       "    }\n",
       "\n",
       "    .dataframe tbody tr th {\n",
       "        vertical-align: top;\n",
       "    }\n",
       "\n",
       "    .dataframe thead th {\n",
       "        text-align: right;\n",
       "    }\n",
       "</style>\n",
       "<table border=\"1\" class=\"dataframe\">\n",
       "  <thead>\n",
       "    <tr style=\"text-align: right;\">\n",
       "      <th></th>\n",
       "      <th>dept_IT</th>\n",
       "      <th>dept_RandD</th>\n",
       "      <th>dept_accounting</th>\n",
       "      <th>dept_hr</th>\n",
       "      <th>dept_management</th>\n",
       "      <th>dept_marketing</th>\n",
       "      <th>dept_product_mng</th>\n",
       "      <th>dept_sales</th>\n",
       "      <th>dept_support</th>\n",
       "      <th>dept_technical</th>\n",
       "    </tr>\n",
       "  </thead>\n",
       "  <tbody>\n",
       "    <tr>\n",
       "      <th>0</th>\n",
       "      <td>0</td>\n",
       "      <td>0</td>\n",
       "      <td>0</td>\n",
       "      <td>0</td>\n",
       "      <td>0</td>\n",
       "      <td>0</td>\n",
       "      <td>0</td>\n",
       "      <td>1</td>\n",
       "      <td>0</td>\n",
       "      <td>0</td>\n",
       "    </tr>\n",
       "    <tr>\n",
       "      <th>1</th>\n",
       "      <td>0</td>\n",
       "      <td>0</td>\n",
       "      <td>0</td>\n",
       "      <td>0</td>\n",
       "      <td>0</td>\n",
       "      <td>0</td>\n",
       "      <td>0</td>\n",
       "      <td>1</td>\n",
       "      <td>0</td>\n",
       "      <td>0</td>\n",
       "    </tr>\n",
       "    <tr>\n",
       "      <th>2</th>\n",
       "      <td>0</td>\n",
       "      <td>0</td>\n",
       "      <td>0</td>\n",
       "      <td>0</td>\n",
       "      <td>0</td>\n",
       "      <td>0</td>\n",
       "      <td>0</td>\n",
       "      <td>1</td>\n",
       "      <td>0</td>\n",
       "      <td>0</td>\n",
       "    </tr>\n",
       "    <tr>\n",
       "      <th>3</th>\n",
       "      <td>0</td>\n",
       "      <td>0</td>\n",
       "      <td>0</td>\n",
       "      <td>0</td>\n",
       "      <td>0</td>\n",
       "      <td>0</td>\n",
       "      <td>0</td>\n",
       "      <td>1</td>\n",
       "      <td>0</td>\n",
       "      <td>0</td>\n",
       "    </tr>\n",
       "    <tr>\n",
       "      <th>4</th>\n",
       "      <td>0</td>\n",
       "      <td>0</td>\n",
       "      <td>0</td>\n",
       "      <td>0</td>\n",
       "      <td>0</td>\n",
       "      <td>0</td>\n",
       "      <td>0</td>\n",
       "      <td>1</td>\n",
       "      <td>0</td>\n",
       "      <td>0</td>\n",
       "    </tr>\n",
       "  </tbody>\n",
       "</table>\n",
       "</div>"
      ],
      "text/plain": [
       "   dept_IT  dept_RandD  dept_accounting  dept_hr  dept_management  \\\n",
       "0        0           0                0        0                0   \n",
       "1        0           0                0        0                0   \n",
       "2        0           0                0        0                0   \n",
       "3        0           0                0        0                0   \n",
       "4        0           0                0        0                0   \n",
       "\n",
       "   dept_marketing  dept_product_mng  dept_sales  dept_support  dept_technical  \n",
       "0               0                 0           1             0               0  \n",
       "1               0                 0           1             0               0  \n",
       "2               0                 0           1             0               0  \n",
       "3               0                 0           1             0               0  \n",
       "4               0                 0           1             0               0  "
      ]
     },
     "execution_count": 20,
     "metadata": {},
     "output_type": "execute_result"
    }
   ],
   "source": [
    "#transform department\n",
    "dept_df = pd.get_dummies(df.Department, prefix='dept')\n",
    "dept_df.head()"
   ]
  },
  {
   "cell_type": "code",
   "execution_count": 21,
   "metadata": {
    "execution": {
     "iopub.execute_input": "2021-03-11T20:31:09.060886Z",
     "iopub.status.busy": "2021-03-11T20:31:09.060237Z",
     "iopub.status.idle": "2021-03-11T20:31:09.074656Z",
     "shell.execute_reply": "2021-03-11T20:31:09.073973Z"
    },
    "papermill": {
     "duration": 0.061822,
     "end_time": "2021-03-11T20:31:09.074805",
     "exception": false,
     "start_time": "2021-03-11T20:31:09.012983",
     "status": "completed"
    },
    "tags": []
   },
   "outputs": [
    {
     "data": {
      "text/html": [
       "<div>\n",
       "<style scoped>\n",
       "    .dataframe tbody tr th:only-of-type {\n",
       "        vertical-align: middle;\n",
       "    }\n",
       "\n",
       "    .dataframe tbody tr th {\n",
       "        vertical-align: top;\n",
       "    }\n",
       "\n",
       "    .dataframe thead th {\n",
       "        text-align: right;\n",
       "    }\n",
       "</style>\n",
       "<table border=\"1\" class=\"dataframe\">\n",
       "  <thead>\n",
       "    <tr style=\"text-align: right;\">\n",
       "      <th></th>\n",
       "      <th>Department</th>\n",
       "      <th>salary</th>\n",
       "      <th>satisfaction_level</th>\n",
       "      <th>promotion_last_5years</th>\n",
       "      <th>average_montly_hours</th>\n",
       "      <th>time_spend_company</th>\n",
       "      <th>salary_high</th>\n",
       "      <th>salary_low</th>\n",
       "      <th>salary_medium</th>\n",
       "    </tr>\n",
       "  </thead>\n",
       "  <tbody>\n",
       "    <tr>\n",
       "      <th>0</th>\n",
       "      <td>sales</td>\n",
       "      <td>low</td>\n",
       "      <td>0.38</td>\n",
       "      <td>0</td>\n",
       "      <td>157</td>\n",
       "      <td>3</td>\n",
       "      <td>0</td>\n",
       "      <td>1</td>\n",
       "      <td>0</td>\n",
       "    </tr>\n",
       "    <tr>\n",
       "      <th>1</th>\n",
       "      <td>sales</td>\n",
       "      <td>medium</td>\n",
       "      <td>0.80</td>\n",
       "      <td>0</td>\n",
       "      <td>262</td>\n",
       "      <td>6</td>\n",
       "      <td>0</td>\n",
       "      <td>0</td>\n",
       "      <td>1</td>\n",
       "    </tr>\n",
       "    <tr>\n",
       "      <th>2</th>\n",
       "      <td>sales</td>\n",
       "      <td>medium</td>\n",
       "      <td>0.11</td>\n",
       "      <td>0</td>\n",
       "      <td>272</td>\n",
       "      <td>4</td>\n",
       "      <td>0</td>\n",
       "      <td>0</td>\n",
       "      <td>1</td>\n",
       "    </tr>\n",
       "    <tr>\n",
       "      <th>3</th>\n",
       "      <td>sales</td>\n",
       "      <td>low</td>\n",
       "      <td>0.72</td>\n",
       "      <td>0</td>\n",
       "      <td>223</td>\n",
       "      <td>5</td>\n",
       "      <td>0</td>\n",
       "      <td>1</td>\n",
       "      <td>0</td>\n",
       "    </tr>\n",
       "    <tr>\n",
       "      <th>4</th>\n",
       "      <td>sales</td>\n",
       "      <td>low</td>\n",
       "      <td>0.37</td>\n",
       "      <td>0</td>\n",
       "      <td>159</td>\n",
       "      <td>3</td>\n",
       "      <td>0</td>\n",
       "      <td>1</td>\n",
       "      <td>0</td>\n",
       "    </tr>\n",
       "  </tbody>\n",
       "</table>\n",
       "</div>"
      ],
      "text/plain": [
       "  Department  salary  satisfaction_level  promotion_last_5years  \\\n",
       "0      sales     low                0.38                      0   \n",
       "1      sales  medium                0.80                      0   \n",
       "2      sales  medium                0.11                      0   \n",
       "3      sales     low                0.72                      0   \n",
       "4      sales     low                0.37                      0   \n",
       "\n",
       "   average_montly_hours  time_spend_company  salary_high  salary_low  \\\n",
       "0                   157                   3            0           1   \n",
       "1                   262                   6            0           0   \n",
       "2                   272                   4            0           0   \n",
       "3                   223                   5            0           1   \n",
       "4                   159                   3            0           1   \n",
       "\n",
       "   salary_medium  \n",
       "0              0  \n",
       "1              1  \n",
       "2              1  \n",
       "3              0  \n",
       "4              0  "
      ]
     },
     "execution_count": 21,
     "metadata": {},
     "output_type": "execute_result"
    }
   ],
   "source": [
    "#concatenate salary with the main dataframe\n",
    "transform_df = pd.concat([df,salary_df], axis='columns')\n",
    "transform_df.head()"
   ]
  },
  {
   "cell_type": "code",
   "execution_count": 22,
   "metadata": {
    "execution": {
     "iopub.execute_input": "2021-03-11T20:31:09.166853Z",
     "iopub.status.busy": "2021-03-11T20:31:09.166178Z",
     "iopub.status.idle": "2021-03-11T20:31:09.185340Z",
     "shell.execute_reply": "2021-03-11T20:31:09.184599Z"
    },
    "papermill": {
     "duration": 0.067429,
     "end_time": "2021-03-11T20:31:09.185497",
     "exception": false,
     "start_time": "2021-03-11T20:31:09.118068",
     "status": "completed"
    },
    "tags": []
   },
   "outputs": [
    {
     "data": {
      "text/html": [
       "<div>\n",
       "<style scoped>\n",
       "    .dataframe tbody tr th:only-of-type {\n",
       "        vertical-align: middle;\n",
       "    }\n",
       "\n",
       "    .dataframe tbody tr th {\n",
       "        vertical-align: top;\n",
       "    }\n",
       "\n",
       "    .dataframe thead th {\n",
       "        text-align: right;\n",
       "    }\n",
       "</style>\n",
       "<table border=\"1\" class=\"dataframe\">\n",
       "  <thead>\n",
       "    <tr style=\"text-align: right;\">\n",
       "      <th></th>\n",
       "      <th>Department</th>\n",
       "      <th>salary</th>\n",
       "      <th>satisfaction_level</th>\n",
       "      <th>promotion_last_5years</th>\n",
       "      <th>average_montly_hours</th>\n",
       "      <th>time_spend_company</th>\n",
       "      <th>salary_high</th>\n",
       "      <th>salary_low</th>\n",
       "      <th>salary_medium</th>\n",
       "      <th>dept_IT</th>\n",
       "      <th>dept_RandD</th>\n",
       "      <th>dept_accounting</th>\n",
       "      <th>dept_hr</th>\n",
       "      <th>dept_management</th>\n",
       "      <th>dept_marketing</th>\n",
       "      <th>dept_product_mng</th>\n",
       "      <th>dept_sales</th>\n",
       "      <th>dept_support</th>\n",
       "      <th>dept_technical</th>\n",
       "    </tr>\n",
       "  </thead>\n",
       "  <tbody>\n",
       "    <tr>\n",
       "      <th>0</th>\n",
       "      <td>sales</td>\n",
       "      <td>low</td>\n",
       "      <td>0.38</td>\n",
       "      <td>0</td>\n",
       "      <td>157</td>\n",
       "      <td>3</td>\n",
       "      <td>0</td>\n",
       "      <td>1</td>\n",
       "      <td>0</td>\n",
       "      <td>0</td>\n",
       "      <td>0</td>\n",
       "      <td>0</td>\n",
       "      <td>0</td>\n",
       "      <td>0</td>\n",
       "      <td>0</td>\n",
       "      <td>0</td>\n",
       "      <td>1</td>\n",
       "      <td>0</td>\n",
       "      <td>0</td>\n",
       "    </tr>\n",
       "    <tr>\n",
       "      <th>1</th>\n",
       "      <td>sales</td>\n",
       "      <td>medium</td>\n",
       "      <td>0.80</td>\n",
       "      <td>0</td>\n",
       "      <td>262</td>\n",
       "      <td>6</td>\n",
       "      <td>0</td>\n",
       "      <td>0</td>\n",
       "      <td>1</td>\n",
       "      <td>0</td>\n",
       "      <td>0</td>\n",
       "      <td>0</td>\n",
       "      <td>0</td>\n",
       "      <td>0</td>\n",
       "      <td>0</td>\n",
       "      <td>0</td>\n",
       "      <td>1</td>\n",
       "      <td>0</td>\n",
       "      <td>0</td>\n",
       "    </tr>\n",
       "    <tr>\n",
       "      <th>2</th>\n",
       "      <td>sales</td>\n",
       "      <td>medium</td>\n",
       "      <td>0.11</td>\n",
       "      <td>0</td>\n",
       "      <td>272</td>\n",
       "      <td>4</td>\n",
       "      <td>0</td>\n",
       "      <td>0</td>\n",
       "      <td>1</td>\n",
       "      <td>0</td>\n",
       "      <td>0</td>\n",
       "      <td>0</td>\n",
       "      <td>0</td>\n",
       "      <td>0</td>\n",
       "      <td>0</td>\n",
       "      <td>0</td>\n",
       "      <td>1</td>\n",
       "      <td>0</td>\n",
       "      <td>0</td>\n",
       "    </tr>\n",
       "    <tr>\n",
       "      <th>3</th>\n",
       "      <td>sales</td>\n",
       "      <td>low</td>\n",
       "      <td>0.72</td>\n",
       "      <td>0</td>\n",
       "      <td>223</td>\n",
       "      <td>5</td>\n",
       "      <td>0</td>\n",
       "      <td>1</td>\n",
       "      <td>0</td>\n",
       "      <td>0</td>\n",
       "      <td>0</td>\n",
       "      <td>0</td>\n",
       "      <td>0</td>\n",
       "      <td>0</td>\n",
       "      <td>0</td>\n",
       "      <td>0</td>\n",
       "      <td>1</td>\n",
       "      <td>0</td>\n",
       "      <td>0</td>\n",
       "    </tr>\n",
       "    <tr>\n",
       "      <th>4</th>\n",
       "      <td>sales</td>\n",
       "      <td>low</td>\n",
       "      <td>0.37</td>\n",
       "      <td>0</td>\n",
       "      <td>159</td>\n",
       "      <td>3</td>\n",
       "      <td>0</td>\n",
       "      <td>1</td>\n",
       "      <td>0</td>\n",
       "      <td>0</td>\n",
       "      <td>0</td>\n",
       "      <td>0</td>\n",
       "      <td>0</td>\n",
       "      <td>0</td>\n",
       "      <td>0</td>\n",
       "      <td>0</td>\n",
       "      <td>1</td>\n",
       "      <td>0</td>\n",
       "      <td>0</td>\n",
       "    </tr>\n",
       "  </tbody>\n",
       "</table>\n",
       "</div>"
      ],
      "text/plain": [
       "  Department  salary  satisfaction_level  promotion_last_5years  \\\n",
       "0      sales     low                0.38                      0   \n",
       "1      sales  medium                0.80                      0   \n",
       "2      sales  medium                0.11                      0   \n",
       "3      sales     low                0.72                      0   \n",
       "4      sales     low                0.37                      0   \n",
       "\n",
       "   average_montly_hours  time_spend_company  salary_high  salary_low  \\\n",
       "0                   157                   3            0           1   \n",
       "1                   262                   6            0           0   \n",
       "2                   272                   4            0           0   \n",
       "3                   223                   5            0           1   \n",
       "4                   159                   3            0           1   \n",
       "\n",
       "   salary_medium  dept_IT  dept_RandD  dept_accounting  dept_hr  \\\n",
       "0              0        0           0                0        0   \n",
       "1              1        0           0                0        0   \n",
       "2              1        0           0                0        0   \n",
       "3              0        0           0                0        0   \n",
       "4              0        0           0                0        0   \n",
       "\n",
       "   dept_management  dept_marketing  dept_product_mng  dept_sales  \\\n",
       "0                0               0                 0           1   \n",
       "1                0               0                 0           1   \n",
       "2                0               0                 0           1   \n",
       "3                0               0                 0           1   \n",
       "4                0               0                 0           1   \n",
       "\n",
       "   dept_support  dept_technical  \n",
       "0             0               0  \n",
       "1             0               0  \n",
       "2             0               0  \n",
       "3             0               0  \n",
       "4             0               0  "
      ]
     },
     "execution_count": 22,
     "metadata": {},
     "output_type": "execute_result"
    }
   ],
   "source": [
    "#concatenate Department with the main dataframe\n",
    "transform_df = pd.concat([transform_df,dept_df], axis='columns')\n",
    "transform_df.head()"
   ]
  },
  {
   "cell_type": "code",
   "execution_count": 23,
   "metadata": {
    "execution": {
     "iopub.execute_input": "2021-03-11T20:31:09.280133Z",
     "iopub.status.busy": "2021-03-11T20:31:09.279239Z",
     "iopub.status.idle": "2021-03-11T20:31:09.297903Z",
     "shell.execute_reply": "2021-03-11T20:31:09.297264Z"
    },
    "papermill": {
     "duration": 0.06794,
     "end_time": "2021-03-11T20:31:09.298045",
     "exception": false,
     "start_time": "2021-03-11T20:31:09.230105",
     "status": "completed"
    },
    "tags": []
   },
   "outputs": [
    {
     "data": {
      "text/html": [
       "<div>\n",
       "<style scoped>\n",
       "    .dataframe tbody tr th:only-of-type {\n",
       "        vertical-align: middle;\n",
       "    }\n",
       "\n",
       "    .dataframe tbody tr th {\n",
       "        vertical-align: top;\n",
       "    }\n",
       "\n",
       "    .dataframe thead th {\n",
       "        text-align: right;\n",
       "    }\n",
       "</style>\n",
       "<table border=\"1\" class=\"dataframe\">\n",
       "  <thead>\n",
       "    <tr style=\"text-align: right;\">\n",
       "      <th></th>\n",
       "      <th>satisfaction_level</th>\n",
       "      <th>promotion_last_5years</th>\n",
       "      <th>average_montly_hours</th>\n",
       "      <th>time_spend_company</th>\n",
       "      <th>salary_high</th>\n",
       "      <th>salary_low</th>\n",
       "      <th>salary_medium</th>\n",
       "      <th>dept_IT</th>\n",
       "      <th>dept_RandD</th>\n",
       "      <th>dept_accounting</th>\n",
       "      <th>dept_hr</th>\n",
       "      <th>dept_management</th>\n",
       "      <th>dept_marketing</th>\n",
       "      <th>dept_product_mng</th>\n",
       "      <th>dept_sales</th>\n",
       "      <th>dept_support</th>\n",
       "      <th>dept_technical</th>\n",
       "    </tr>\n",
       "  </thead>\n",
       "  <tbody>\n",
       "    <tr>\n",
       "      <th>0</th>\n",
       "      <td>0.38</td>\n",
       "      <td>0</td>\n",
       "      <td>157</td>\n",
       "      <td>3</td>\n",
       "      <td>0</td>\n",
       "      <td>1</td>\n",
       "      <td>0</td>\n",
       "      <td>0</td>\n",
       "      <td>0</td>\n",
       "      <td>0</td>\n",
       "      <td>0</td>\n",
       "      <td>0</td>\n",
       "      <td>0</td>\n",
       "      <td>0</td>\n",
       "      <td>1</td>\n",
       "      <td>0</td>\n",
       "      <td>0</td>\n",
       "    </tr>\n",
       "    <tr>\n",
       "      <th>1</th>\n",
       "      <td>0.80</td>\n",
       "      <td>0</td>\n",
       "      <td>262</td>\n",
       "      <td>6</td>\n",
       "      <td>0</td>\n",
       "      <td>0</td>\n",
       "      <td>1</td>\n",
       "      <td>0</td>\n",
       "      <td>0</td>\n",
       "      <td>0</td>\n",
       "      <td>0</td>\n",
       "      <td>0</td>\n",
       "      <td>0</td>\n",
       "      <td>0</td>\n",
       "      <td>1</td>\n",
       "      <td>0</td>\n",
       "      <td>0</td>\n",
       "    </tr>\n",
       "    <tr>\n",
       "      <th>2</th>\n",
       "      <td>0.11</td>\n",
       "      <td>0</td>\n",
       "      <td>272</td>\n",
       "      <td>4</td>\n",
       "      <td>0</td>\n",
       "      <td>0</td>\n",
       "      <td>1</td>\n",
       "      <td>0</td>\n",
       "      <td>0</td>\n",
       "      <td>0</td>\n",
       "      <td>0</td>\n",
       "      <td>0</td>\n",
       "      <td>0</td>\n",
       "      <td>0</td>\n",
       "      <td>1</td>\n",
       "      <td>0</td>\n",
       "      <td>0</td>\n",
       "    </tr>\n",
       "    <tr>\n",
       "      <th>3</th>\n",
       "      <td>0.72</td>\n",
       "      <td>0</td>\n",
       "      <td>223</td>\n",
       "      <td>5</td>\n",
       "      <td>0</td>\n",
       "      <td>1</td>\n",
       "      <td>0</td>\n",
       "      <td>0</td>\n",
       "      <td>0</td>\n",
       "      <td>0</td>\n",
       "      <td>0</td>\n",
       "      <td>0</td>\n",
       "      <td>0</td>\n",
       "      <td>0</td>\n",
       "      <td>1</td>\n",
       "      <td>0</td>\n",
       "      <td>0</td>\n",
       "    </tr>\n",
       "    <tr>\n",
       "      <th>4</th>\n",
       "      <td>0.37</td>\n",
       "      <td>0</td>\n",
       "      <td>159</td>\n",
       "      <td>3</td>\n",
       "      <td>0</td>\n",
       "      <td>1</td>\n",
       "      <td>0</td>\n",
       "      <td>0</td>\n",
       "      <td>0</td>\n",
       "      <td>0</td>\n",
       "      <td>0</td>\n",
       "      <td>0</td>\n",
       "      <td>0</td>\n",
       "      <td>0</td>\n",
       "      <td>1</td>\n",
       "      <td>0</td>\n",
       "      <td>0</td>\n",
       "    </tr>\n",
       "  </tbody>\n",
       "</table>\n",
       "</div>"
      ],
      "text/plain": [
       "   satisfaction_level  promotion_last_5years  average_montly_hours  \\\n",
       "0                0.38                      0                   157   \n",
       "1                0.80                      0                   262   \n",
       "2                0.11                      0                   272   \n",
       "3                0.72                      0                   223   \n",
       "4                0.37                      0                   159   \n",
       "\n",
       "   time_spend_company  salary_high  salary_low  salary_medium  dept_IT  \\\n",
       "0                   3            0           1              0        0   \n",
       "1                   6            0           0              1        0   \n",
       "2                   4            0           0              1        0   \n",
       "3                   5            0           1              0        0   \n",
       "4                   3            0           1              0        0   \n",
       "\n",
       "   dept_RandD  dept_accounting  dept_hr  dept_management  dept_marketing  \\\n",
       "0           0                0        0                0               0   \n",
       "1           0                0        0                0               0   \n",
       "2           0                0        0                0               0   \n",
       "3           0                0        0                0               0   \n",
       "4           0                0        0                0               0   \n",
       "\n",
       "   dept_product_mng  dept_sales  dept_support  dept_technical  \n",
       "0                 0           1             0               0  \n",
       "1                 0           1             0               0  \n",
       "2                 0           1             0               0  \n",
       "3                 0           1             0               0  \n",
       "4                 0           1             0               0  "
      ]
     },
     "execution_count": 23,
     "metadata": {},
     "output_type": "execute_result"
    }
   ],
   "source": [
    "#drop columns Department and salary\n",
    "transform_df.drop(['Department','salary'], axis=1, inplace=True)\n",
    "transform_df.head()"
   ]
  },
  {
   "cell_type": "markdown",
   "metadata": {
    "papermill": {
     "duration": 0.044912,
     "end_time": "2021-03-11T20:31:09.387253",
     "exception": false,
     "start_time": "2021-03-11T20:31:09.342341",
     "status": "completed"
    },
    "tags": []
   },
   "source": [
    "# 4. MACHINE LEARNING MODELS IMPLEMENTATION"
   ]
  },
  {
   "cell_type": "code",
   "execution_count": 24,
   "metadata": {
    "execution": {
     "iopub.execute_input": "2021-03-11T20:31:09.483453Z",
     "iopub.status.busy": "2021-03-11T20:31:09.482447Z",
     "iopub.status.idle": "2021-03-11T20:31:09.488981Z",
     "shell.execute_reply": "2021-03-11T20:31:09.488430Z"
    },
    "papermill": {
     "duration": 0.057619,
     "end_time": "2021-03-11T20:31:09.489151",
     "exception": false,
     "start_time": "2021-03-11T20:31:09.431532",
     "status": "completed"
    },
    "tags": []
   },
   "outputs": [],
   "source": [
    "#split the dataset into training and test data\n",
    "x_train, x_test, y_train, y_test = train_test_split(transform_df, retent_df.left, test_size=0.2)"
   ]
  },
  {
   "cell_type": "code",
   "execution_count": 25,
   "metadata": {
    "execution": {
     "iopub.execute_input": "2021-03-11T20:31:09.586413Z",
     "iopub.status.busy": "2021-03-11T20:31:09.585713Z",
     "iopub.status.idle": "2021-03-11T20:31:09.589229Z",
     "shell.execute_reply": "2021-03-11T20:31:09.588654Z"
    },
    "papermill": {
     "duration": 0.054869,
     "end_time": "2021-03-11T20:31:09.589374",
     "exception": false,
     "start_time": "2021-03-11T20:31:09.534505",
     "status": "completed"
    },
    "tags": []
   },
   "outputs": [],
   "source": [
    "#create a pipeline for Logistic Regression\n",
    "pipeline_log_reg = Pipeline([('Logistic Regression',LogisticRegression(solver='lbfgs', max_iter=1000))])\n",
    "\n",
    "#create a pipeline for decision tree\n",
    "pipeline_dec_tree = Pipeline([('Decision tree', DecisionTreeClassifier())])\n",
    "\n",
    "#create a pipeline for Random Forest Classifier\n",
    "pipeline_random_forest = Pipeline([('Random Forest', RandomForestClassifier())])\n",
    "\n",
    "#create a pipeline for Support Vector Machine\n",
    "pipeline_svm = Pipeline([('Support Vector Machine', SVC(C=2.0))])\n",
    "\n",
    "#create a pipeline for Gradient Boosting Classifier\n",
    "pipeline_gradient_boost = Pipeline([('Gradient Boosting Classifier', GradientBoostingClassifier(learning_rate=0.1))])"
   ]
  },
  {
   "cell_type": "code",
   "execution_count": 26,
   "metadata": {
    "execution": {
     "iopub.execute_input": "2021-03-11T20:31:09.684976Z",
     "iopub.status.busy": "2021-03-11T20:31:09.684138Z",
     "iopub.status.idle": "2021-03-11T20:31:09.686673Z",
     "shell.execute_reply": "2021-03-11T20:31:09.687236Z"
    },
    "papermill": {
     "duration": 0.053264,
     "end_time": "2021-03-11T20:31:09.687417",
     "exception": false,
     "start_time": "2021-03-11T20:31:09.634153",
     "status": "completed"
    },
    "tags": []
   },
   "outputs": [],
   "source": [
    "#create a list and dictionary for pipelines\n",
    "pipelines = [pipeline_log_reg, pipeline_dec_tree, pipeline_random_forest, pipeline_svm, pipeline_gradient_boost]\n",
    "pipelines_dict = {0:'Logistic Regression',\n",
    "                 1:'Decision Tree',\n",
    "                 2:'Random Forest',\n",
    "                 3:'Support Vector Machine',\n",
    "                 4:'Gradient Boosting Classifier'}"
   ]
  },
  {
   "cell_type": "code",
   "execution_count": 27,
   "metadata": {
    "execution": {
     "iopub.execute_input": "2021-03-11T20:31:09.785278Z",
     "iopub.status.busy": "2021-03-11T20:31:09.784523Z",
     "iopub.status.idle": "2021-03-11T20:31:20.283347Z",
     "shell.execute_reply": "2021-03-11T20:31:20.283836Z"
    },
    "papermill": {
     "duration": 10.551959,
     "end_time": "2021-03-11T20:31:20.284023",
     "exception": false,
     "start_time": "2021-03-11T20:31:09.732064",
     "status": "completed"
    },
    "tags": []
   },
   "outputs": [
    {
     "name": "stdout",
     "output_type": "stream",
     "text": [
      "Accuracy of Logistic Regression is 0.7583333333333333\n",
      "Accuracy of Decision Tree is 0.9656666666666667\n",
      "Accuracy of Random Forest is 0.9826666666666667\n",
      "Accuracy of Support Vector Machine is 0.764\n",
      "Accuracy of Gradient Boosting Classifier is 0.9616666666666667\n"
     ]
    }
   ],
   "source": [
    "#predict and display the accuracy of models\n",
    "for i,pipe in enumerate(pipelines):\n",
    "    pipe.fit(x_train,y_train)\n",
    "    y_pred = pipe.predict(x_test)\n",
    "    print(\"Accuracy of {} is {}\".format(pipelines_dict[i], pipe.score(x_test, y_test)))"
   ]
  },
  {
   "cell_type": "markdown",
   "metadata": {
    "papermill": {
     "duration": 0.045258,
     "end_time": "2021-03-11T20:31:20.374945",
     "exception": false,
     "start_time": "2021-03-11T20:31:20.329687",
     "status": "completed"
    },
    "tags": []
   },
   "source": [
    "# 5. CONCLUSION\n",
    "\n",
    "From the analysis and prediction, the accuracy of the models are listed as follows:\n",
    "<br>Logistic Regression - 77%\n",
    "<br>Decision Tree algorithm - 97% \n",
    "<br>Random Forest algorithm - 98% \n",
    "<br>Support Vector machine - 78%\n",
    "<br>Gradient Boosting Classifier - 96%"
   ]
  }
 ],
 "metadata": {
  "kernelspec": {
   "display_name": "Python 3",
   "language": "python",
   "name": "python3"
  },
  "language_info": {
   "codemirror_mode": {
    "name": "ipython",
    "version": 3
   },
   "file_extension": ".py",
   "mimetype": "text/x-python",
   "name": "python",
   "nbconvert_exporter": "python",
   "pygments_lexer": "ipython3",
   "version": "3.7.9"
  },
  "papermill": {
   "default_parameters": {},
   "duration": 35.182408,
   "end_time": "2021-03-11T20:31:21.333124",
   "environment_variables": {},
   "exception": null,
   "input_path": "__notebook__.ipynb",
   "output_path": "__notebook__.ipynb",
   "parameters": {},
   "start_time": "2021-03-11T20:30:46.150716",
   "version": "2.2.2"
  }
 },
 "nbformat": 4,
 "nbformat_minor": 4
}
